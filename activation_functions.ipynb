{
  "nbformat": 4,
  "nbformat_minor": 0,
  "metadata": {
    "colab": {
      "name": "activation_functions.ipynb",
      "provenance": [],
      "authorship_tag": "ABX9TyN/lMpqMqc1CazGI8EoSxdK",
      "include_colab_link": true
    },
    "kernelspec": {
      "name": "python3",
      "display_name": "Python 3"
    }
  },
  "cells": [
    {
      "cell_type": "markdown",
      "metadata": {
        "id": "view-in-github",
        "colab_type": "text"
      },
      "source": [
        "<a href=\"https://colab.research.google.com/github/fatihdursunfd/artifical_nerual_networks/blob/fd/activation_functions.ipynb\" target=\"_parent\"><img src=\"https://colab.research.google.com/assets/colab-badge.svg\" alt=\"Open In Colab\"/></a>"
      ]
    },
    {
      "cell_type": "code",
      "metadata": {
        "id": "Z0drIudTW79t"
      },
      "source": [
        "import numpy as np\r\n",
        "import matplotlib.pyplot as plt"
      ],
      "execution_count": 1,
      "outputs": []
    },
    {
      "cell_type": "code",
      "metadata": {
        "id": "6NHEkwCKXHEK"
      },
      "source": [
        "def signum(x):\r\n",
        "  if x > 0 :\r\n",
        "    return 1\r\n",
        "  elif x == 0:\r\n",
        "    return 0\r\n",
        "  else :\r\n",
        "    return -1"
      ],
      "execution_count": 2,
      "outputs": []
    },
    {
      "cell_type": "code",
      "metadata": {
        "id": "tF0u0Fgtazca"
      },
      "source": [
        "def sigmoid(x):\r\n",
        "  return 1 / ( 1 + np.exp(-x) )"
      ],
      "execution_count": 3,
      "outputs": []
    },
    {
      "cell_type": "code",
      "metadata": {
        "id": "DfVa03q3dy9q"
      },
      "source": [
        "def d_sigmoid(x):\r\n",
        "  a = sigmoid(x)\r\n",
        "  return a * (1 - a)"
      ],
      "execution_count": 4,
      "outputs": []
    },
    {
      "cell_type": "code",
      "metadata": {
        "id": "QCyqYbYsbiJg"
      },
      "source": [
        "def tanh(x):\r\n",
        "  return 2 / ( 1 + np.exp(-x) ) - 1"
      ],
      "execution_count": 6,
      "outputs": []
    },
    {
      "cell_type": "code",
      "metadata": {
        "id": "uQnQjfpAePMD"
      },
      "source": [
        "def d_tanh(x):\r\n",
        "  a = tanh(x)\r\n",
        "  return ( 1 - a * a ) "
      ],
      "execution_count": 7,
      "outputs": []
    },
    {
      "cell_type": "code",
      "metadata": {
        "id": "GGcK3XByb8OR"
      },
      "source": [
        "def relu(x):\r\n",
        "  return max(0,x)"
      ],
      "execution_count": 8,
      "outputs": []
    },
    {
      "cell_type": "code",
      "metadata": {
        "id": "Lu0QbHEEcUeK"
      },
      "source": [
        "alpha = 0.1\r\n",
        "def leaky_relu(x):\r\n",
        "  return max(alpha * x , x)"
      ],
      "execution_count": 9,
      "outputs": []
    },
    {
      "cell_type": "code",
      "metadata": {
        "id": "8U4YczDqXs8g"
      },
      "source": [
        "h = [i for i in np.linspace(-10,10,200)]\r\n",
        "sh = [signum(i) for i in np.linspace(-10,10,200)]"
      ],
      "execution_count": 10,
      "outputs": []
    },
    {
      "cell_type": "code",
      "metadata": {
        "id": "LLenIgvfUhzO"
      },
      "source": [
        "def plot_coordinatesystem():\r\n",
        "  \r\n",
        "  x1=[i for i in range(-10,10,1)]\r\n",
        "  y1=[0 for i in range(20)]\r\n",
        "  x2=[0 for i in range(20)]\r\n",
        "  y2=[i for i in range(-10,10,1)]\r\n",
        "\r\n",
        "  plt.plot(x1,y1,color=\"black\")\r\n",
        "  plt.plot(x2,y2,color=\"black\")"
      ],
      "execution_count": 11,
      "outputs": []
    },
    {
      "cell_type": "code",
      "metadata": {
        "colab": {
          "base_uri": "https://localhost:8080/",
          "height": 265
        },
        "id": "8M-Apa8aX6_z",
        "outputId": "b247fd67-4f0d-4cd8-a41f-6c1924856c52"
      },
      "source": [
        "plot_coordinatesystem()\r\n",
        "\r\n",
        "plt.plot(h,sh,label=\"signum function\")\r\n",
        "plt.legend()\r\n",
        "\r\n",
        "plt.show()"
      ],
      "execution_count": 12,
      "outputs": [
        {
          "output_type": "display_data",
          "data": {
            "image/png": "[encoded data removed]",
            "text/plain": [
              "<Figure size 432x288 with 1 Axes>"
            ]
          },
          "metadata": {
            "tags": [],
            "needs_background": "light"
          }
        }
      ]
    },
    {
      "cell_type": "code",
      "metadata": {
        "id": "d47tlPU7bBGG"
      },
      "source": [
        "sh = [ sigmoid(i) for i in np.linspace(-10,10,200)]\r\n",
        "dh = [ d_sigmoid(i) for i in np.linspace(-10,10,200)]"
      ],
      "execution_count": 13,
      "outputs": []
    },
    {
      "cell_type": "code",
      "metadata": {
        "colab": {
          "base_uri": "https://localhost:8080/",
          "height": 265
        },
        "id": "ro-qlUH4bEzx",
        "outputId": "332f949c-602a-4802-b339-e54ad6bdaf16"
      },
      "source": [
        "plot_coordinatesystem()\r\n",
        "\r\n",
        "plt.plot(h,sh,'b',label=\"sigmoid\")\r\n",
        "plt.plot(h,dh,\"k--\" , label=\"derivate of sigmoid\")\r\n",
        "\r\n",
        "plt.legend()\r\n",
        "\r\n",
        "plt.show()"
      ],
      "execution_count": 14,
      "outputs": [
        {
          "output_type": "display_data",
          "data": {
            "image/png": "[encoded data removed]",
            "text/plain": [
              "<Figure size 432x288 with 1 Axes>"
            ]
          },
          "metadata": {
            "tags": [],
            "needs_background": "light"
          }
        }
      ]
    },
    {
      "cell_type": "code",
      "metadata": {
        "id": "X2pBXRFXbsTX"
      },
      "source": [
        "sh = [tanh(i) for i in np.linspace(-10,10,200)]\r\n",
        "dh = [ d_tanh(i) for i in np.linspace(-10,10,200)]"
      ],
      "execution_count": 15,
      "outputs": []
    },
    {
      "cell_type": "code",
      "metadata": {
        "colab": {
          "base_uri": "https://localhost:8080/",
          "height": 265
        },
        "id": "sSGsRwTFbsOX",
        "outputId": "574073ce-a5f4-4fea-a81f-4e80afd986ef"
      },
      "source": [
        "plot_coordinatesystem()\r\n",
        "\r\n",
        "plt.plot(h,sh,'b',label=\"tanh\")\r\n",
        "plt.plot(h,dh,\"k--\" , label=\"derivate of tanh\")\r\n",
        "\r\n",
        "plt.legend()\r\n",
        "plt.show()"
      ],
      "execution_count": 16,
      "outputs": [
        {
          "output_type": "display_data",
          "data": {
            "image/png": "[encoded data removed]",
            "text/plain": [
              "<Figure size 432x288 with 1 Axes>"
            ]
          },
          "metadata": {
            "tags": [],
            "needs_background": "light"
          }
        }
      ]
    },
    {
      "cell_type": "code",
      "metadata": {
        "id": "cf7zVNWSb5ri"
      },
      "source": [
        "sh = [relu(i) for i in np.linspace(-10,10,200)]"
      ],
      "execution_count": 17,
      "outputs": []
    },
    {
      "cell_type": "code",
      "metadata": {
        "colab": {
          "base_uri": "https://localhost:8080/",
          "height": 265
        },
        "id": "bRY3rGYicGQE",
        "outputId": "4ef4ce1f-1d65-4661-ec80-bbc36e60a330"
      },
      "source": [
        "plot_coordinatesystem()\r\n",
        "\r\n",
        "plt.plot(h,sh,label=\"relu function\")\r\n",
        "plt.legend()\r\n",
        "\r\n",
        "plt.show()"
      ],
      "execution_count": 18,
      "outputs": [
        {
          "output_type": "display_data",
          "data": {
            "image/png": "[encoded data removed]",
            "text/plain": [
              "<Figure size 432x288 with 1 Axes>"
            ]
          },
          "metadata": {
            "tags": [],
            "needs_background": "light"
          }
        }
      ]
    },
    {
      "cell_type": "code",
      "metadata": {
        "id": "JRMAbyWlcjUW"
      },
      "source": [
        "sh = [leaky_relu(i) for i in np.linspace(-10,10,200)]"
      ],
      "execution_count": 19,
      "outputs": []
    },
    {
      "cell_type": "code",
      "metadata": {
        "colab": {
          "base_uri": "https://localhost:8080/",
          "height": 265
        },
        "id": "bpSIKeUYcoo2",
        "outputId": "b49b1d8f-626a-4e22-f835-5042dd411ddb"
      },
      "source": [
        "plot_coordinatesystem()\r\n",
        "\r\n",
        "plt.plot(h,sh,label=\"leaky relu function\")\r\n",
        "plt.legend()\r\n",
        "\r\n",
        "plt.show()"
      ],
      "execution_count": 20,
      "outputs": [
        {
          "output_type": "display_data",
          "data": {
            "image/png": "[encoded data removed]",
            "text/plain": [
              "<Figure size 432x288 with 1 Axes>"
            ]
          },
          "metadata": {
            "tags": [],
            "needs_background": "light"
          }
        }
      ]
    }
  ]
}