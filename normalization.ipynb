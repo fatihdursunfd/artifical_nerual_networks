{
  "nbformat": 4,
  "nbformat_minor": 0,
  "metadata": {
    "colab": {
      "name": "normalization.ipynb",
      "provenance": [],
      "collapsed_sections": [],
      "authorship_tag": "ABX9TyOFLmCwO0xq7eLT5u5AIi8o",
      "include_colab_link": true
    },
    "kernelspec": {
      "display_name": "Python 3",
      "name": "python3"
    }
  },
  "cells": [
    {
      "cell_type": "markdown",
      "metadata": {
        "id": "view-in-github",
        "colab_type": "text"
      },
      "source": [
        "<a href=\"https://colab.research.google.com/github/fatihdursunfd/artifical_nerual_networks/blob/fd/normalization.ipynb\" target=\"_parent\"><img src=\"https://colab.research.google.com/assets/colab-badge.svg\" alt=\"Open In Colab\"/></a>"
      ]
    },
    {
      "cell_type": "code",
      "metadata": {
        "colab": {
          "background_save": true
        },
        "id": "XUnKT6iJbn_r"
      },
      "source": [
        "import numpy as np\r\n",
        "import matplotlib.pyplot as plt   "
      ],
      "execution_count": null,
      "outputs": []
    },
    {
      "cell_type": "code",
      "metadata": {
        "id": "YewENt5yPjQM"
      },
      "source": [
        "def plot_coordinatesystem():\r\n",
        "  \r\n",
        "  x1=[i for i in range(-10,10,1)]\r\n",
        "  y1=[0 for i in range(20)]\r\n",
        "  x2=[0 for i in range(20)]\r\n",
        "  y2=[i for i in range(-10,10,1)]\r\n",
        "\r\n",
        "  plt.plot(x1,y1,color=\"black\")\r\n",
        "  plt.plot(x2,y2,color=\"black\")"
      ],
      "execution_count": null,
      "outputs": []
    },
    {
      "cell_type": "code",
      "metadata": {
        "id": "Qh9jp_VwdibZ"
      },
      "source": [
        "def batch_normalization(arr):\r\n",
        "\r\n",
        "    a_std = np.std(arr)\r\n",
        "    a_var = np.var(arr)\r\n",
        "    a_mean = np.mean(arr)\r\n",
        "    \r\n",
        "    arr = (arr - a_mean) / np.sqrt(a_var )\r\n",
        "    return arr\r\n"
      ],
      "execution_count": null,
      "outputs": []
    },
    {
      "cell_type": "code",
      "metadata": {
        "id": "g1RhIUO2Xf4e"
      },
      "source": [
        "def normalization(arr):\r\n",
        "\r\n",
        "  a_mean = np.mean(arr)\r\n",
        "  a_min = min(arr)\r\n",
        "  a_max = max(arr)\r\n",
        "\r\n",
        "  arr = (arr - a_mean) / (a_max - a_min)\r\n",
        "\r\n",
        "  return arr\r\n",
        "  "
      ],
      "execution_count": null,
      "outputs": []
    },
    {
      "cell_type": "code",
      "metadata": {
        "id": "jD-M5cpjMa3x"
      },
      "source": [
        "def softmax(arr):\r\n",
        "\r\n",
        "  e = np.exp(arr)\r\n",
        "  return e / sum(e)\r\n",
        "  "
      ],
      "execution_count": null,
      "outputs": []
    },
    {
      "cell_type": "code",
      "metadata": {
        "colab": {
          "base_uri": "https://localhost:8080/",
          "height": 320
        },
        "id": "uQjpDfUdX4eD",
        "outputId": "730c1b92-e78a-4346-8930-ecd69e7f5f7d"
      },
      "source": [
        "x_array = [2,3,-5,6,7,4,8,7,-6]\r\n",
        "y_array = [1,-3,4,-6,0,1,3,1,9]\r\n",
        "\r\n",
        "n_x =  normalization(x_array) \r\n",
        "n_y =  normalization(y_array) \r\n",
        "\r\n",
        "bn_x = batch_normalization(x_array) \r\n",
        "bn_y = batch_normalization(y_array) \r\n",
        "\r\n",
        "sn_x = softmax(x_array) \r\n",
        "sn_y = softmax(y_array) \r\n",
        "\r\n",
        "plt.figure(figsize=(18,5))\r\n",
        "plot_coordinatesystem()\r\n",
        "\r\n",
        "for i in range(len(x_array)):\r\n",
        "  plt.plot(x_array[i],y_array[i],color=\"green\",marker=\"o\")\r\n",
        "  plt.plot(n_x[i],n_y[i],color=\"blue\",marker=\"x\")\r\n",
        "  plt.plot(bn_x[i],bn_y[i],color=\"yellow\",marker=\"*\")\r\n",
        "  plt.plot(sn_x[i],sn_y[i],color=\"red\",marker=\"+\")\r\n",
        "\r\n",
        "plt.show()\r\n",
        "\r\n"
      ],
      "execution_count": null,
      "outputs": [
        {
          "output_type": "display_data",
          "data": {
            "image/png": "[encoded data removed]",
            "text/plain": [
              "<Figure size 1296x360 with 1 Axes>"
            ]
          },
          "metadata": {
            "tags": []
          }
        }
      ]
    }
  ]
}